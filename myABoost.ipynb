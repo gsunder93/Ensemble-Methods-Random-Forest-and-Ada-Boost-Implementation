{
 "cells": [
  {
   "cell_type": "code",
   "execution_count": 28,
   "metadata": {
    "collapsed": true
   },
   "outputs": [],
   "source": [
    "import numpy as np\n",
    "import math as math\n",
    "import matplotlib.pyplot as plt\n",
    "%matplotlib inline"
   ]
  },
  {
   "cell_type": "code",
   "execution_count": 2,
   "metadata": {
    "collapsed": true
   },
   "outputs": [],
   "source": [
    "data= np.loadtxt(\"boston.csv\",delimiter=\",\")"
   ]
  },
  {
   "cell_type": "code",
   "execution_count": 3,
   "metadata": {
    "collapsed": false
   },
   "outputs": [],
   "source": [
    "boston50=np.copy(data)\n",
    "boston75=np.copy(data)"
   ]
  },
  {
   "cell_type": "code",
   "execution_count": 4,
   "metadata": {
    "collapsed": false
   },
   "outputs": [],
   "source": [
    "median=np.median(boston50[:,-1])\n",
    "boston50[boston50[:,-1]<median,-1]=-1\n",
    "boston50[boston50[:,-1]>=median,-1]=1"
   ]
  },
  {
   "cell_type": "code",
   "execution_count": 5,
   "metadata": {
    "collapsed": false
   },
   "outputs": [],
   "source": [
    "perce=np.percentile(boston75[:,-1],75)\n",
    "boston75[boston75[:,-1]<perce,-1]=-1\n",
    "boston75[boston75[:,-1]>=perce,-1]=1"
   ]
  },
  {
   "cell_type": "code",
   "execution_count": 6,
   "metadata": {
    "collapsed": false
   },
   "outputs": [],
   "source": [
    "# Decision Tree "
   ]
  },
  {
   "cell_type": "code",
   "execution_count": 9,
   "metadata": {
    "collapsed": true
   },
   "outputs": [],
   "source": [
    "def split_node(X,column, val):\n",
    "    set_true=X[X[:,column]>=val,:]\n",
    "    set_false= X[X[:,column]<val,:]\n",
    "    return set_true, set_false"
   ]
  },
  {
   "cell_type": "code",
   "execution_count": 10,
   "metadata": {
    "collapsed": false
   },
   "outputs": [],
   "source": [
    "def entropy(X):\n",
    "    entropy=0\n",
    "    if X.shape[0]!=0: \n",
    "        for x in np.unique(X[:,-1]):\n",
    "            p=float(np.sum(X[:,-1]==x))/X.shape[0]\n",
    "            entropy += p * np.log2(p) \n",
    "    return -1.0 * entropy"
   ]
  },
  {
   "cell_type": "code",
   "execution_count": 11,
   "metadata": {
    "collapsed": false
   },
   "outputs": [],
   "source": [
    "class node:\n",
    "    def __init__(self, col=None, val=None, is_Leaf = False, clas=None, true_branch=None, false_branch=None):\n",
    "        self.col=col\n",
    "        self.val=val\n",
    "        self.is_Leaf = is_Leaf\n",
    "        self.clas=clas\n",
    "        self.true_branch=true_branch\n",
    "        self.false_branch=false_branch"
   ]
  },
  {
   "cell_type": "code",
   "execution_count": 12,
   "metadata": {
    "collapsed": false
   },
   "outputs": [],
   "source": [
    "def decision_tree_node(X):\n",
    "    cols=range(0,X.shape[1]-1)\n",
    "    entropy_X= entropy(X)\n",
    "    attr, threshold, best_entropy = None, None, 1e30\n",
    "    for col in cols:\n",
    "        entropy_p = 0.0\n",
    "        if np.unique(X[:,col]).shape[0]!=2:\n",
    "            for p in [10,20,30,40,50,60,70,80,90]:\n",
    "                val=np.percentile(X[:,col],p)\n",
    "                set_true, set_false = split_node(X,col,val)\n",
    "                entropy_true= entropy(set_true)\n",
    "                entropy_false= entropy(set_false)\n",
    "                entropy_p=(float(set_true.shape[0])/X.shape[0])*entropy_true +(float(set_false.shape[0])/X.shape[0])*entropy_false\n",
    "                if entropy_p < best_entropy:\n",
    "                    best_entropy = entropy_p\n",
    "                    attr = col\n",
    "                    threshold = val\n",
    "        else:\n",
    "            val=1.0\n",
    "            set_true, set_false = split_node(X,col,val)\n",
    "            entropy_true= entropy(set_true)\n",
    "            entropy_false= entropy(set_false)\n",
    "            entropy_p=(float(set_true.shape[0])/X.shape[0])*entropy_true + (float(set_false.shape[0])/X.shape[0])*entropy_false\n",
    "            if entropy_p < best_entropy:\n",
    "                best_entropy = entropy_p\n",
    "                attr = col\n",
    "                threshold = val\n",
    "    return attr, threshold"
   ]
  },
  {
   "cell_type": "code",
   "execution_count": 13,
   "metadata": {
    "collapsed": false
   },
   "outputs": [],
   "source": [
    "def decision_tree(X,depth, max_depth):\n",
    "    if depth == max_depth:\n",
    "        value, count = np.unique(X[:,-1], return_counts = True)\n",
    "        return node(is_Leaf=True,clas=value[np.argmax(count)])\n",
    "    attribute, threshold = decision_tree_node(X)\n",
    "    X_true, X_false = split_node(X, attribute, threshold)\n",
    "    cur_node = node(attribute, threshold, False, -1)\n",
    "    if X_true.shape[0]>0:\n",
    "        cur_node.true_branch = decision_tree(X_true, depth +1, max_depth)\n",
    "    if X_false.shape[0]>0:\n",
    "        cur_node.false_branch = decision_tree(X_false, depth + 1, max_depth)\n",
    "    return cur_node"
   ]
  },
  {
   "cell_type": "code",
   "execution_count": 14,
   "metadata": {
    "collapsed": false
   },
   "outputs": [],
   "source": [
    "def classify(X,tree):\n",
    "    if tree.is_Leaf==True:\n",
    "        return tree.clas\n",
    "    else:\n",
    "        if isinstance(X[:,tree.col][0],int) or isinstance(X[:,tree.col][0],float):\n",
    "            if X[:,tree.col]>=tree.val:\n",
    "                if tree.true_branch is not None:\n",
    "                    return classify(X,tree.true_branch)\n",
    "                if tree.true_branch is None:\n",
    "                    return classify(X,tree.false_branch)\n",
    "            elif X[:,tree.col]<tree.val: \n",
    "                if tree.false_branch is not None:\n",
    "                    return classify(X,tree.false_branch)\n",
    "                if tree.false_branch is None:\n",
    "                    return classify(X,tree.true_branch)\n",
    "        else:\n",
    "            if X[:,tree.col]==tree.val:\n",
    "                return classify(X,tree.true_branch)\n",
    "            else:\n",
    "                return classify(X,tree.false_branch)"
   ]
  },
  {
   "cell_type": "code",
   "execution_count": 15,
   "metadata": {
    "collapsed": false
   },
   "outputs": [],
   "source": [
    "def bootstrap_sample(X, seed):\n",
    "    np.random.seed(seed)\n",
    "    return list(np.random.choice(a=X.shape[0],size=X.shape[0], replace=True))"
   ]
  },
  {
   "cell_type": "code",
   "execution_count": 16,
   "metadata": {
    "collapsed": false
   },
   "outputs": [],
   "source": [
    "def adaboost(X,B,seeed,depth,max_depth):\n",
    "    w=np.repeat(1.0/X.shape[0],X.shape[0])\n",
    "    tree=[]\n",
    "    alpha=[]\n",
    "    for i in range(0,B):\n",
    "        np.random.seed(seeed)\n",
    "        b=np.random.choice(a=range(0,X.shape[0]),size=X.shape[0],replace=True,p=w)\n",
    "        boot=X[b,:]\n",
    "        tree.append(decision_tree(boot,depth,max_depth))\n",
    "        yhat=map(lambda x: classify(x.reshape(1,13),tree[i]), X[:,0:13])\n",
    "        error=np.sum(np.multiply(w,yhat!=X[:,-1]))\n",
    "        if error<0.5:\n",
    "            alpha.append(0.5*np.log((1-error)/error))\n",
    "            step1=yhat*X[:,-1]*alpha[i]*(-1.0)\n",
    "            w= w*np.exp(step1)\n",
    "            w=w/np.sum(w)\n",
    "        else:\n",
    "            w=np.repeat(1.0/X.shape[0],X.shape[0])\n",
    "            continue\n",
    "        seeed = seeed + 1\n",
    "    return alpha,tree"
   ]
  },
  {
   "cell_type": "code",
   "execution_count": 17,
   "metadata": {
    "collapsed": false
   },
   "outputs": [],
   "source": [
    "def ada_boost_error(X,tree,alpha):\n",
    "    G_x=np.zeros((X.shape[0]))\n",
    "    for i in range(0,len(tree)):\n",
    "        yhat=map(lambda x: classify(x.reshape(1,13),tree[i]), X[:,0:13])\n",
    "        G_x=G_x+alpha[i]*np.array(yhat)\n",
    "    G_x=np.sign(G_x) \n",
    "    return np.sum(G_x!=X[:,-1])*1.0/X.shape[0]"
   ]
  },
  {
   "cell_type": "code",
   "execution_count": 18,
   "metadata": {
    "collapsed": true
   },
   "outputs": [],
   "source": [
    "def cross_validation(X,k, depth, max_depth,seed,B):\n",
    "    np.random.shuffle(X)\n",
    "    index=[]\n",
    "    accu=np.zeros((2,k))\n",
    "    for i in range(0,k):\n",
    "        index.append(range(X.shape[0]*i/k,X.shape[0]*(i+1)/k))\n",
    "    for i in range(0,len(index)):\n",
    "        test=np.copy(X[index[i],:])\n",
    "        train=np.delete(X[:,:],index[i],axis=0)\n",
    "        alpha,tree=adaboost(train,B,seed,depth,max_depth)\n",
    "        accu[0,i]=ada_boost_error(train,tree,alpha)\n",
    "        accu[1,i]=ada_boost_error(test,tree,alpha)\n",
    "    return accu"
   ]
  },
  {
   "cell_type": "code",
   "execution_count": 19,
   "metadata": {
    "collapsed": false
   },
   "outputs": [],
   "source": [
    "accu=[]\n",
    "for b in range(5,55,5):\n",
    "    accu.append(cross_validation(boston50,10,0,2,1,b))"
   ]
  },
  {
   "cell_type": "code",
   "execution_count": 20,
   "metadata": {
    "collapsed": false
   },
   "outputs": [],
   "source": [
    "accu75=[]\n",
    "for b in range(5,55,5):\n",
    "    accu75.append(cross_validation(boston75,10,0,2,1,b))"
   ]
  },
  {
   "cell_type": "code",
   "execution_count": 21,
   "metadata": {
    "collapsed": false
   },
   "outputs": [],
   "source": [
    "accu=np.array(accu).reshape(20,10)\n",
    "a=np.zeros((20,10))\n",
    "for i in range(0,10):\n",
    "    a[2*i,:]=accu[[0,2,4,6,8,10,12,14,16,18],i]\n",
    "    a[2*i+1,:]=accu[[1,3,5,7,9,11,13,15,17,19],i]\n",
    "print a\n",
    "train=a[[0,2,4,6,8,10,12,14,16,18],:]\n",
    "test=a[[1,3,5,7,9,11,13,15,17,19],:]\n",
    "np.savetxt(\"Ada_boost_table_50.csv\",a,delimiter=\",\")"
   ]
  },
  {
   "cell_type": "code",
   "execution_count": 23,
   "metadata": {
    "collapsed": false
   },
   "outputs": [
    {
     "name": "stdout",
     "output_type": "stream",
     "text": [
      "Boston 50\n",
      "Train std\n",
      "[ 0.01817717  0.01255878  0.01552674  0.00873202  0.00693463  0.01234233\n",
      "  0.0130129   0.01035992  0.00981655  0.00658129]\n",
      "Train mean\n",
      "[ 0.13833864  0.10627723  0.08761712  0.07553692  0.06784847  0.05292703\n",
      "  0.04522701  0.04018604  0.02985975  0.02152063]\n",
      "Test std\n",
      "[ 0.03914388  0.05455049  0.03619555  0.04003238  0.04191313  0.03852659\n",
      "  0.06521064  0.05237337  0.0592619   0.0443537 ]\n",
      "Test mean\n",
      "[ 0.17596078  0.16411765  0.14415686  0.13431373  0.13227451  0.13235294\n",
      "  0.11462745  0.11458824  0.12431373  0.11470588]\n"
     ]
    }
   ],
   "source": [
    "print \"Boston 50\"\n",
    "print \"Train std\"\n",
    "print np.std(train,axis=0)\n",
    "np.savetxt(\"train_std.csv\",np.std(train,axis=0),delimiter=\",\")\n",
    "print \"Train mean\"\n",
    "print np.mean(train,axis=0)\n",
    "np.savetxt(\"train_mean.csv\",np.mean(train,axis=0),delimiter=\",\")\n",
    "print \"Test std\"\n",
    "print np.std(test,axis=0)\n",
    "np.savetxt(\"test_std.csv\",np.std(test,axis=0),delimiter=\",\")\n",
    "print \"Test mean\" \n",
    "print np.mean(test,axis=0)\n",
    "np.savetxt(\"test_mean.csv\",np.mean(test,axis=0),delimiter=\",\")"
   ]
  },
  {
   "cell_type": "code",
   "execution_count": 24,
   "metadata": {
    "collapsed": false
   },
   "outputs": [],
   "source": [
    "accu75=np.array(accu75).reshape(20,10)\n",
    "a=np.zeros((20,10))\n",
    "for i in range(0,10):\n",
    "    a[2*i,:]=accu75[[0,2,4,6,8,10,12,14,16,18],i]\n",
    "    a[2*i+1,:]=accu75[[1,3,5,7,9,11,13,15,17,19],i]\n",
    "print a\n",
    "train75=a[[0,2,4,6,8,10,12,14,16,18],:]\n",
    "test75=a[[1,3,5,7,9,11,13,15,17,19],:]\n",
    "np.savetxt(\"Ada_boost_table_75.csv\",a,delimiter=\",\")"
   ]
  },
  {
   "cell_type": "code",
   "execution_count": 25,
   "metadata": {
    "collapsed": false
   },
   "outputs": [
    {
     "name": "stdout",
     "output_type": "stream",
     "text": [
      "Boston 75\n",
      "Train std\n",
      "[ 0.0082608   0.00745851  0.00976703  0.00877938  0.00947157  0.00845067\n",
      "  0.01152523  0.00565748  0.00370705  0.00581577]\n",
      "Train mean\n",
      "[ 0.08783931  0.06346202  0.05028918  0.04106034  0.03250241  0.02240409\n",
      "  0.01975564  0.00966117  0.00768604  0.00504964]\n",
      "Test std\n",
      "[ 0.04304196  0.03775964  0.03069466  0.042694    0.02886448  0.03789382\n",
      "  0.0277198   0.02045199  0.02698851  0.04077903]\n",
      "Test mean\n",
      "[ 0.11058824  0.09686275  0.0967451   0.07698039  0.07713725  0.06733333\n",
      "  0.07513725  0.08701961  0.07917647  0.09294118]\n"
     ]
    }
   ],
   "source": [
    "print \"Boston 75\"\n",
    "print \"Train std\"\n",
    "print np.std(train75,axis=0)\n",
    "np.savetxt(\"train_std.csv\",np.std(train75,axis=0),delimiter=\",\")\n",
    "print \"Train mean\"\n",
    "print np.mean(train75,axis=0)\n",
    "np.savetxt(\"train_mean.csv\",np.mean(train75,axis=0),delimiter=\",\")\n",
    "print \"Test std\"\n",
    "print np.std(test75,axis=0)\n",
    "np.savetxt(\"test_std.csv\",np.std(test75,axis=0),delimiter=\",\")\n",
    "print \"Test mean\" \n",
    "print np.mean(test75,axis=0)\n",
    "np.savetxt(\"test_mean.csv\",np.mean(test75,axis=0),delimiter=\",\")"
   ]
  },
  {
   "cell_type": "code",
   "execution_count": 29,
   "metadata": {
    "collapsed": false
   },
   "outputs": [
    {
     "data": {
      "image/png": "[encoded data removed]",
      "text/plain": [
       "<matplotlib.figure.Figure at 0x865fa90>"
      ]
     },
     "metadata": {},
     "output_type": "display_data"
    }
   ],
   "source": [
    "plt.figure()\n",
    "plt.title(\"Training and Testing accuracy vs number of base learners\")\n",
    "plt.xlabel(\"Number of base learners\")\n",
    "plt.ylabel(\"Error\")\n",
    "plt.grid()\n",
    "plt.plot(np.array([5,10,15,20,25,30,35,40,45,50]), np.mean(train,axis=0),'*-', color=\"r\", label=\"Training Error\")\n",
    "plt.plot(np.array([5,10,15,20,25,30,35,40,45,50]), np.mean(test,axis=0), '*-', color=\"b\", label=\"Testing Error\")\n",
    "plt.legend(loc=\"best\")\n",
    "plt.savefig('Boston50_Ada.jpg')\n",
    "plt.show()"
   ]
  },
  {
   "cell_type": "code",
   "execution_count": 31,
   "metadata": {
    "collapsed": false
   },
   "outputs": [
    {
     "data": {
      "image/png": "[encoded data removed]",
      "text/plain": [
       "<matplotlib.figure.Figure at 0x8428ac8>"
      ]
     },
     "metadata": {},
     "output_type": "display_data"
    }
   ],
   "source": [
    "plt.figure()\n",
    "plt.title(\"Training and Testing accuracy vs number of base learners\")\n",
    "plt.xlabel(\"Number of base learners\")\n",
    "plt.ylabel(\"Error\")\n",
    "plt.grid()\n",
    "plt.plot(np.array([5,10,15,20,25,30,35,40,45,50]), np.mean(train75,axis=0),'*-', color=\"r\", label=\"Training Error\")\n",
    "plt.plot(np.array([5,10,15,20,25,30,35,40,45,50]), np.mean(test75,axis=0), '*-', color=\"b\", label=\"Testing Error\")\n",
    "plt.legend(loc=\"best\")\n",
    "plt.savefig('Boston75_Ada.jpg')\n",
    "plt.show()"
   ]
  },
  {
   "cell_type": "code",
   "execution_count": null,
   "metadata": {
    "collapsed": true
   },
   "outputs": [],
   "source": []
  }
 ],
 "metadata": {
  "kernelspec": {
   "display_name": "Python 2",
   "language": "python",
   "name": "python2"
  },
  "language_info": {
   "codemirror_mode": {
    "name": "ipython",
    "version": 2
   },
   "file_extension": ".py",
   "mimetype": "text/x-python",
   "name": "python",
   "nbconvert_exporter": "python",
   "pygments_lexer": "ipython2",
   "version": "2.7.9"
  }
 },
 "nbformat": 4,
 "nbformat_minor": 0
}
