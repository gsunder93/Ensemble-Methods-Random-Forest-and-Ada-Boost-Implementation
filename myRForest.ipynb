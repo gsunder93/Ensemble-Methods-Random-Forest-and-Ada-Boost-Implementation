{
 "cells": [
  {
   "cell_type": "code",
   "execution_count": 23,
   "metadata": {
    "collapsed": false
   },
   "outputs": [],
   "source": [
    "import numpy as np\n",
    "import math as math\n",
    "import matplotlib.pyplot as plt\n",
    "%matplotlib inline"
   ]
  },
  {
   "cell_type": "code",
   "execution_count": 2,
   "metadata": {
    "collapsed": true
   },
   "outputs": [],
   "source": [
    "data= np.loadtxt(\"boston.csv\",delimiter=\",\")"
   ]
  },
  {
   "cell_type": "code",
   "execution_count": 3,
   "metadata": {
    "collapsed": false
   },
   "outputs": [],
   "source": [
    "boston50=np.copy(data)\n",
    "boston75=np.copy(data)"
   ]
  },
  {
   "cell_type": "code",
   "execution_count": 4,
   "metadata": {
    "collapsed": false
   },
   "outputs": [],
   "source": [
    "boston50[:,-1]=(boston50[:,-1]>=np.median(boston50[:,-1])).astype(int)\n",
    "boston75[:,-1]=(boston75[:,-1]>=np.percentile(boston75[:,-1],75)).astype(int)"
   ]
  },
  {
   "cell_type": "code",
   "execution_count": 5,
   "metadata": {
    "collapsed": false
   },
   "outputs": [],
   "source": [
    "# Decision Tree "
   ]
  },
  {
   "cell_type": "code",
   "execution_count": 6,
   "metadata": {
    "collapsed": true
   },
   "outputs": [],
   "source": [
    "def split_node(X,column, val):\n",
    "    set_true=X[X[:,column]>=val,:]\n",
    "    set_false= X[X[:,column]<val,:]\n",
    "    return set_true, set_false"
   ]
  },
  {
   "cell_type": "code",
   "execution_count": 7,
   "metadata": {
    "collapsed": false
   },
   "outputs": [],
   "source": [
    "def entropy(X):\n",
    "    entropy=0\n",
    "    if X.shape[0]!=0: \n",
    "        for x in np.unique(X[:,-1]):\n",
    "            p=float(np.sum(X[:,-1]==x))/X.shape[0]\n",
    "            entropy += p * np.log2(p) \n",
    "    return -1.0 * entropy"
   ]
  },
  {
   "cell_type": "code",
   "execution_count": 8,
   "metadata": {
    "collapsed": false
   },
   "outputs": [],
   "source": [
    "class node:\n",
    "    def __init__(self, col=None, val=None, is_Leaf = False, clas=None, true_branch=None, false_branch=None):\n",
    "        self.col=col\n",
    "        self.val=val\n",
    "        self.is_Leaf = is_Leaf\n",
    "        self.clas=clas\n",
    "        self.true_branch=true_branch\n",
    "        self.false_branch=false_branch"
   ]
  },
  {
   "cell_type": "code",
   "execution_count": 9,
   "metadata": {
    "collapsed": false
   },
   "outputs": [],
   "source": [
    "def decision_tree_node(X, m, seed):\n",
    "    np.random.seed(seed)\n",
    "    cols=np.random.choice(a=13,replace=False,size=m)\n",
    "    np.append(cols, 13)\n",
    "    entropy_X= entropy(X)\n",
    "    attr, threshold, best_entropy = None, None, 1e30\n",
    "    for col in cols:\n",
    "        entropy_p = 0.0\n",
    "        if np.unique(X[:,col]).shape[0]!=2:\n",
    "            for p in [10,20,30,40,50,60,70,80,90]:\n",
    "                val=np.percentile(X[:,col],p)\n",
    "                set_true, set_false = split_node(X,col,val)\n",
    "                entropy_true= entropy(set_true)\n",
    "                entropy_false= entropy(set_false)\n",
    "                entropy_p=(float(set_true.shape[0])/X.shape[0])*entropy_true +(float(set_false.shape[0])/X.shape[0])*entropy_false\n",
    "                if entropy_p < best_entropy:\n",
    "                    best_entropy = entropy_p\n",
    "                    attr = col\n",
    "                    threshold = val\n",
    "        else:\n",
    "            val=1.0\n",
    "            set_true, set_false = split_node(X,col,val)\n",
    "            entropy_true= entropy(set_true)\n",
    "            entropy_false= entropy(set_false)\n",
    "            entropy_p=(float(set_true.shape[0])/X.shape[0])*entropy_true + (float(set_false.shape[0])/X.shape[0])*entropy_false\n",
    "            if entropy_p < best_entropy:\n",
    "                best_entropy = entropy_p\n",
    "                attr = col\n",
    "                threshold = val\n",
    "    return attr, threshold"
   ]
  },
  {
   "cell_type": "code",
   "execution_count": 10,
   "metadata": {
    "collapsed": false
   },
   "outputs": [],
   "source": [
    "def decision_tree(X,depth, max_depth, m, rec_call):\n",
    "    rec_call = rec_call + 1\n",
    "    if depth == max_depth:\n",
    "        value, count = np.unique(X[:,-1], return_counts = True)\n",
    "        return node(is_Leaf=True,clas=value[np.argmax(count)])\n",
    "    attribute, threshold = decision_tree_node(X, m, rec_call)\n",
    "    X_true, X_false = split_node(X, attribute, threshold)\n",
    "    cur_node = node(attribute, threshold, False, -1)\n",
    "    if X_true.shape[0]!=0:\n",
    "        cur_node.true_branch = decision_tree(X_true, depth +1, max_depth, m, rec_call)\n",
    "    if X_false.shape[0]!=0:\n",
    "        cur_node.false_branch = decision_tree(X_false, depth + 1, max_depth, m, rec_call)\n",
    "    return cur_node"
   ]
  },
  {
   "cell_type": "code",
   "execution_count": 11,
   "metadata": {
    "collapsed": false
   },
   "outputs": [],
   "source": [
    "def classify(X,tree):\n",
    "    if tree.is_Leaf==True:\n",
    "        return tree.clas\n",
    "    else:\n",
    "        if isinstance(X[:,tree.col][0],int) or isinstance(X[:,tree.col][0],float):\n",
    "            if X[:,tree.col]>=tree.val:\n",
    "                if tree.true_branch is not None:\n",
    "                    return classify(X,tree.true_branch)\n",
    "                if tree.true_branch is None:\n",
    "                    return classify(X,tree.false_branch)\n",
    "            elif X[:,tree.col]<tree.val: \n",
    "                if tree.false_branch is not None:\n",
    "                    return classify(X,tree.false_branch)\n",
    "                if tree.false_branch is None:\n",
    "                    return classify(X,tree.true_branch)\n",
    "        else:\n",
    "            if X[:,tree.col]==tree.val:\n",
    "                return classify(X,tree.true_branch)\n",
    "            else:\n",
    "                return classify(X,tree.false_branch)"
   ]
  },
  {
   "cell_type": "code",
   "execution_count": 12,
   "metadata": {
    "collapsed": false
   },
   "outputs": [],
   "source": [
    "def bootstrap_sample(X,seeed):\n",
    "    np.random.seed(seeed)\n",
    "    return list(np.random.choice(a=X.shape[0],size=X.shape[0], replace=True))"
   ]
  },
  {
   "cell_type": "code",
   "execution_count": 13,
   "metadata": {
    "collapsed": false
   },
   "outputs": [],
   "source": [
    "def cross_validation(X,k, m, depth, max_depth, rec_call, n):\n",
    "    np.random.shuffle(X)\n",
    "    index=[]\n",
    "    accu=[]\n",
    "    for i in range(0,k):\n",
    "        index.append(range(X.shape[0]*i/k,X.shape[0]*(i+1)/k))\n",
    "    for i in range(0,len(index)):\n",
    "        acc=np.zeros((2,m))\n",
    "        test=np.copy(X[index[i],:])\n",
    "        train=np.delete(X[:,:],index[i],axis=0)\n",
    "        for f in range(1,m+1):\n",
    "            ys_test=np.zeros((test.shape[0],100))\n",
    "            ys_train=np.zeros((train.shape[0],100))\n",
    "            for j in range(0,n):\n",
    "                boot_train=train[bootstrap_sample(train,rec_call),:]\n",
    "                tree= decision_tree(boot_train,depth, max_depth, f, rec_call)\n",
    "                rec_call+=1\n",
    "                yhat_test= map(lambda x: classify(x.reshape(1,13),tree), test[:,0:13])\n",
    "                yhat_train= map(lambda x: classify(x.reshape(1,13),tree), train[:,0:13])\n",
    "                ys_test[:,j]=yhat_test\n",
    "                ys_train[:,j]=yhat_train\n",
    "            ypred_test=(np.sum(ys_test,axis=1)>=int(n/2)).astype(int)\n",
    "            ypred_train=(np.sum(ys_train,axis=1)>=int(n/2)).astype(int)\n",
    "            acc[0,f-1]=np.sum(np.absolute(ypred_train-train[:,-1]))/train.shape[0]\n",
    "            acc[1,f-1]=np.sum(np.absolute(ypred_test-test[:,-1]))/test.shape[0]\n",
    "        accu.append(acc)\n",
    "    return accu\n"
   ]
  },
  {
   "cell_type": "code",
   "execution_count": 14,
   "metadata": {
    "collapsed": false
   },
   "outputs": [],
   "source": [
    "accu=cross_validation(boston50,10, 13, 0,2, 1, 100)"
   ]
  },
  {
   "cell_type": "code",
   "execution_count": 27,
   "metadata": {
    "collapsed": false
   },
   "outputs": [],
   "source": [
    "acc=np.array(accu).reshape((20,13))\n",
    "print acc\n",
    "train=acc[[0,2,4,6,8,10,12,14,16,18],:]\n",
    "test=acc[[1,3,5,7,9,11,13,15,17,19],:]\n",
    "np.savetxt(\"RF_table.csv\",acc,delimiter=\",\")"
   ]
  },
  {
   "cell_type": "code",
   "execution_count": 16,
   "metadata": {
    "collapsed": false
   },
   "outputs": [
    {
     "name": "stdout",
     "output_type": "stream",
     "text": [
      "Boston 50\n",
      "Train std\n",
      "[ 0.01203961  0.00619529  0.01247879  0.00924239  0.00920873  0.00610624\n",
      "  0.00652056  0.00891896  0.0080819   0.00746218  0.00707075  0.01048636\n",
      "  0.01264527]\n",
      "Train mean\n",
      "[ 0.20333815  0.18599238  0.16930499  0.15656738  0.1473448   0.14405099\n",
      "  0.14448622  0.14515038  0.14603046  0.14778436  0.14163245  0.14339021\n",
      "  0.14669125]\n",
      "Test std\n",
      "[ 0.05424912  0.05155574  0.06550292  0.0546069   0.03864558  0.03803161\n",
      "  0.04395174  0.04473107  0.04725586  0.04375678  0.04157575  0.04397343\n",
      "  0.0497561 ]\n",
      "Test mean\n",
      "[ 0.20760784  0.19988235  0.192       0.17603922  0.16619608  0.15231373\n",
      "  0.15827451  0.15823529  0.15827451  0.15823529  0.14647059  0.15435294\n",
      "  0.16611765]\n"
     ]
    }
   ],
   "source": [
    "print \"Boston 50\"\n",
    "print \"Train std\"\n",
    "print np.std(train,axis=0)\n",
    "np.savetxt(\"train_std.csv\",np.std(train,axis=0),delimiter=\",\")\n",
    "print \"Train mean\"\n",
    "print np.mean(train,axis=0)\n",
    "np.savetxt(\"train_mean.csv\",np.mean(train,axis=0),delimiter=\",\")\n",
    "print \"Test std\"\n",
    "print np.std(test,axis=0)\n",
    "np.savetxt(\"test_std.csv\",np.std(test,axis=0),delimiter=\",\")\n",
    "print \"Test mean\" \n",
    "print np.mean(test,axis=0)\n",
    "np.savetxt(\"test_mean.csv\",np.mean(test,axis=0),delimiter=\",\")"
   ]
  },
  {
   "cell_type": "code",
   "execution_count": 17,
   "metadata": {
    "collapsed": true
   },
   "outputs": [],
   "source": [
    "accu75=cross_validation(boston75,10, 13, 0,2, 1, 100)"
   ]
  },
  {
   "cell_type": "code",
   "execution_count": 28,
   "metadata": {
    "collapsed": false
   },
   "outputs": [],
   "source": [
    "acc75=np.array(accu75).reshape((20,13))\n",
    "print acc75\n",
    "train75=acc75[[0,2,4,6,8,10,12,14,16,18],:]\n",
    "test75=acc75[[1,3,5,7,9,11,13,15,17,19],:]\n",
    "np.savetxt(\"RF_table_75.csv\",acc75,delimiter=\",\")"
   ]
  },
  {
   "cell_type": "code",
   "execution_count": 34,
   "metadata": {
    "collapsed": false
   },
   "outputs": [
    {
     "name": "stdout",
     "output_type": "stream",
     "text": [
      "Boston 75\n",
      "Train std\n",
      "[ 0.02815277  0.01152439  0.0067168   0.00338392  0.00492547  0.00424012\n",
      "  0.00522929  0.00324242  0.00257802  0.00529981  0.00320678  0.00274691\n",
      "  0.00396756]\n",
      "Train mean\n",
      "[ 0.1938958   0.11110565  0.09200887  0.08388278  0.08322778  0.0821284\n",
      "  0.08388568  0.08366541  0.08080875  0.08300607  0.0823477   0.08366493\n",
      "  0.08300704]\n",
      "Test std\n",
      "[ 0.08801808  0.04633995  0.04057376  0.03376824  0.03076422  0.035847\n",
      "  0.03790478  0.02843816  0.03121798  0.0314087   0.02656234  0.02514456\n",
      "  0.02803634]\n",
      "Test mean\n",
      "[ 0.21156863  0.11870588  0.10482353  0.09694118  0.09501961  0.09105882\n",
      "  0.09305882  0.09301961  0.08905882  0.09694118  0.09290196  0.09294118\n",
      "  0.09294118]\n"
     ]
    }
   ],
   "source": [
    "print \"Boston 75\"\n",
    "print \"Train std\"\n",
    "print np.std(train75,axis=0)\n",
    "np.savetxt(\"train_std.csv\",np.std(train75,axis=0),delimiter=\",\")\n",
    "print \"Train mean\"\n",
    "print np.mean(train75,axis=0)\n",
    "np.savetxt(\"train_mean.csv\",np.mean(train75,axis=0),delimiter=\",\")\n",
    "print \"Test std\"\n",
    "print np.std(test75,axis=0)\n",
    "np.savetxt(\"test_std.csv\",np.std(test75,axis=0),delimiter=\",\")\n",
    "print \"Test mean\" \n",
    "print np.mean(test75,axis=0)\n",
    "np.savetxt(\"test_mean.csv\",np.mean(test75,axis=0),delimiter=\",\")"
   ]
  },
  {
   "cell_type": "code",
   "execution_count": 30,
   "metadata": {
    "collapsed": false
   },
   "outputs": [
    {
     "data": {
      "image/png": "[encoded data removed]",
      "text/plain": [
       "<matplotlib.figure.Figure at 0x8cbe1d0>"
      ]
     },
     "metadata": {},
     "output_type": "display_data"
    }
   ],
   "source": [
    "plt.figure()\n",
    "plt.title(\"Training and Testing accuracy vs number of features\")\n",
    "plt.xlabel(\"Number of Features\")\n",
    "plt.ylabel(\"Error\")\n",
    "plt.grid()\n",
    "plt.plot(np.array([1,2,3,4,5,6,7,8,9,10,11,12,13]), np.mean(train,axis=0),'*-', color=\"r\", label=\"Training Error\")\n",
    "plt.plot(np.array([1,2,3,4,5,6,7,8,9,10,11,12,13]), np.mean(test,axis=0), '*-', color=\"b\", label=\"Testing Error\")\n",
    "plt.legend(loc=\"best\")\n",
    "plt.savefig('Boston50_RF.jpg')\n",
    "plt.show()"
   ]
  },
  {
   "cell_type": "code",
   "execution_count": 36,
   "metadata": {
    "collapsed": false
   },
   "outputs": [
    {
     "data": {
      "image/png": "[encoded data removed]",
      "text/plain": [
       "<matplotlib.figure.Figure at 0x89a2080>"
      ]
     },
     "metadata": {},
     "output_type": "display_data"
    }
   ],
   "source": [
    "plt.figure()\n",
    "plt.title(\"Training and Testing accuracy vs number of features\")\n",
    "plt.xlabel(\"Number of Features\")\n",
    "plt.ylabel(\"Error\")\n",
    "plt.grid()\n",
    "plt.plot(np.array([1,2,3,4,5,6,7,8,9,10,11,12,13]), np.mean(train75,axis=0),'*-', color=\"r\", label=\"Training Error\")\n",
    "plt.plot(np.array([1,2,3,4,5,6,7,8,9,10,11,12,13]), np.mean(test75,axis=0), '*-', color=\"b\", label=\"Testing Error\")\n",
    "plt.legend(loc=\"best\")\n",
    "plt.savefig('Boston75_RF.jpg')\n",
    "plt.show()"
   ]
  },
  {
   "cell_type": "code",
   "execution_count": null,
   "metadata": {
    "collapsed": true
   },
   "outputs": [],
   "source": []
  }
 ],
 "metadata": {
  "kernelspec": {
   "display_name": "Python 2",
   "language": "python",
   "name": "python2"
  },
  "language_info": {
   "codemirror_mode": {
    "name": "ipython",
    "version": 2
   },
   "file_extension": ".py",
   "mimetype": "text/x-python",
   "name": "python",
   "nbconvert_exporter": "python",
   "pygments_lexer": "ipython2",
   "version": "2.7.9"
  }
 },
 "nbformat": 4,
 "nbformat_minor": 0
}
